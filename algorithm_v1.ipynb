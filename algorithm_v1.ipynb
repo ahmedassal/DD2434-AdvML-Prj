{
 "cells": [
  {
   "cell_type": "markdown",
   "metadata": {},
   "source": [
    "# Mappings"
   ]
  },
  {
   "cell_type": "markdown",
   "metadata": {},
   "source": [
    "## The Model, Tau, &Tau;"
   ]
  },
  {
   "cell_type": "markdown",
   "metadata": {},
   "source": [
    "The structure of the tree, the observable and hiddden variables, and the parameters."
   ]
  },
  {
   "cell_type": "markdown",
   "metadata": {},
   "source": []
  },
  {
   "cell_type": "markdown",
   "metadata": {},
   "source": []
  },
  {
   "cell_type": "markdown",
   "metadata": {},
   "source": [
    "## The Model Parameters, Theta, &theta;"
   ]
  },
  {
   "cell_type": "markdown",
   "metadata": {},
   "source": []
  },
  {
   "cell_type": "markdown",
   "metadata": {},
   "source": []
  },
  {
   "cell_type": "markdown",
   "metadata": {},
   "source": []
  },
  {
   "cell_type": "markdown",
   "metadata": {},
   "source": [
    "## Observable Variables (%100 confidence)"
   ]
  },
  {
   "cell_type": "markdown",
   "metadata": {},
   "source": [
    "X are definetely observed variables."
   ]
  },
  {
   "cell_type": "markdown",
   "metadata": {},
   "source": [
    "They represent the results of tests that are done to discover certain mutations, they are done using microscopes."
   ]
  },
  {
   "cell_type": "markdown",
   "metadata": {},
   "source": [
    "The fact that we generate them initially for the synthetic data, is because we are simulating data points."
   ]
  },
  {
   "cell_type": "markdown",
   "metadata": {},
   "source": [
    "Conclusion(%100 sure): Simulate Xs and give them random values for the synthetic data (trees / HOTs)."
   ]
  },
  {
   "cell_type": "markdown",
   "metadata": {},
   "source": [
    "## Hidden Variables (not sure yet)"
   ]
  },
  {
   "cell_type": "markdown",
   "metadata": {},
   "source": [
    "Z the "
   ]
  },
  {
   "cell_type": "markdown",
   "metadata": {},
   "source": [
    "to be simulated or not"
   ]
  },
  {
   "cell_type": "markdown",
   "metadata": {},
   "source": []
  },
  {
   "cell_type": "markdown",
   "metadata": {},
   "source": [
    "# Globals"
   ]
  },
  {
   "cell_type": "code",
   "execution_count": 3,
   "metadata": {},
   "outputs": [],
   "source": [
    "import random"
   ]
  },
  {
   "cell_type": "markdown",
   "metadata": {},
   "source": [
    "\"Also, for each data set, we first run the algorithm on \n",
    "\n",
    "    a set of randomly generated start HOTs or start HOT-mixtures\n",
    "        \n",
    "    for 10 iterations.\n",
    "The HOT or HOT-mixture that results in the best likelihood is then \n",
    "\n",
    "    run until convergence.\n",
    "    \n",
    "Unless stated otherwise, \n",
    "\n",
    "    the number of start trees and mixtures is 100.\""
   ]
  },
  {
   "cell_type": "code",
   "execution_count": 7,
   "metadata": {},
   "outputs": [],
   "source": [
    "early_iterations = 10\n",
    "start_trees = 100"
   ]
  },
  {
   "cell_type": "markdown",
   "metadata": {},
   "source": [
    "# Data Processing"
   ]
  },
  {
   "cell_type": "markdown",
   "metadata": {},
   "source": [
    "## Synthetic Data"
   ]
  },
  {
   "cell_type": "markdown",
   "metadata": {},
   "source": [
    "### Single HOTS"
   ]
  },
  {
   "cell_type": "markdown",
   "metadata": {},
   "source": [
    "We generated random HOTs with 10, 25, and 40 vertices with parameters on the edges chosen\n",
    "uniformly in the intervals\n",
    "\n",
    "    Pr[Z(u) = 1|Z(p(u)) = 1] in the range [0.1, 1.0], (7)\n",
    "    Pr[X(u) = 0|Z(u) = 1], ex,ez in the range [0.01, q], (8)\n",
    "where q is in the range {0.05, 0.10, 0.25, 0.50}. \n",
    "\n",
    "For each combination, we generated 100 HOTs for a total of\n",
    "3 x 4 x 100 = 1200 HOTs."
   ]
  },
  {
   "cell_type": "code",
   "execution_count": 5,
   "metadata": {},
   "outputs": [],
   "source": [
    "vertices_range = [10, 25, 40]\n",
    "q_range = [0.05, 0.10, 0.25, 0.50]"
   ]
  },
  {
   "cell_type": "code",
   "execution_count": 4,
   "metadata": {},
   "outputs": [],
   "source": [
    "def prob_range(lower, upper):\n",
    "    return random.uniform(lower, upper)"
   ]
  },
  {
   "cell_type": "markdown",
   "metadata": {},
   "source": [
    "#### Global Parameters EM"
   ]
  },
  {
   "cell_type": "markdown",
   "metadata": {},
   "source": [
    "In the standard version of the EM algorithm, there are four parameters per edge of a HOT.\n",
    "The number of parameters can be reduced by letting some parameters be global, e.g., by letting\n",
    "ex(u) = ex(u') for all vertices u and u'. There are three parameters whose global estimation is\n",
    "desirable: ex, ez, and Pr[X(u) = 0 |Z(u) = 1]. However, for technical reasons, requiring that z be\n",
    "global makes it impossible to derive an EM algorithm. Therefore, we will distinguish between two\n",
    "different versions of the algorithm: one with free parameters and one with global parameters. The\n",
    "free parameter version then corresponds to the standard EM algorithm, while the global parameter\n",
    "version corresponds to letting x and Pr[X(u) = 0 | Z(u) = 1] be global. When evaluating the global\n",
    "parameter version of the algorithm using synthetic data, we will follow the convention of letting all\n",
    "three error parameters be global when generating data."
   ]
  },
  {
   "cell_type": "code",
   "execution_count": null,
   "metadata": {},
   "outputs": [],
   "source": [
    "for vertices in vertices_range:\n",
    "    for q in q_range:\n",
    "        Px0= random.normal(0.01, q)\n",
    "        ex= random.normal(0.01, q)\n",
    "        ez= random.normal(0.01, q)\n",
    "        for tree in start_trees:\n",
    "            for node in tree:\n",
    "                Pz= random.normal(0.1, 1.0)"
   ]
  },
  {
   "cell_type": "markdown",
   "metadata": {},
   "source": [
    "#### Free Parameters EM (most probably this version is not used)"
   ]
  },
  {
   "cell_type": "code",
   "execution_count": 10,
   "metadata": {},
   "outputs": [
    {
     "ename": "TypeError",
     "evalue": "'int' object is not iterable",
     "output_type": "error",
     "traceback": [
      "\u001b[1;31m---------------------------------------------------------------------------\u001b[0m",
      "\u001b[1;31mTypeError\u001b[0m                                 Traceback (most recent call last)",
      "\u001b[1;32m<ipython-input-10-68cfbcd83a75>\u001b[0m in \u001b[0;36m<module>\u001b[1;34m()\u001b[0m\n\u001b[0;32m      2\u001b[0m     \u001b[1;32mfor\u001b[0m \u001b[0mq\u001b[0m \u001b[1;32min\u001b[0m \u001b[0mq_range\u001b[0m\u001b[1;33m:\u001b[0m\u001b[1;33m\u001b[0m\u001b[0m\n\u001b[0;32m      3\u001b[0m         \u001b[1;32mfor\u001b[0m \u001b[0mtree\u001b[0m \u001b[1;32min\u001b[0m \u001b[0mrange\u001b[0m\u001b[1;33m(\u001b[0m\u001b[1;36m0\u001b[0m\u001b[1;33m,\u001b[0m\u001b[0mstart_trees\u001b[0m\u001b[1;33m)\u001b[0m\u001b[1;33m:\u001b[0m\u001b[1;33m\u001b[0m\u001b[0m\n\u001b[1;32m----> 4\u001b[1;33m             \u001b[1;32mfor\u001b[0m \u001b[0mnode\u001b[0m \u001b[1;32min\u001b[0m \u001b[0mtree\u001b[0m\u001b[1;33m:\u001b[0m\u001b[1;33m\u001b[0m\u001b[0m\n\u001b[0m\u001b[0;32m      5\u001b[0m                 \u001b[0mPz\u001b[0m\u001b[1;33m=\u001b[0m \u001b[0mrandom\u001b[0m\u001b[1;33m.\u001b[0m\u001b[0mnormal\u001b[0m\u001b[1;33m(\u001b[0m\u001b[1;36m0.1\u001b[0m\u001b[1;33m,\u001b[0m \u001b[1;36m1.0\u001b[0m\u001b[1;33m)\u001b[0m\u001b[1;33m\u001b[0m\u001b[0m\n\u001b[0;32m      6\u001b[0m                 \u001b[0mPx0\u001b[0m\u001b[1;33m=\u001b[0m \u001b[0mrandom\u001b[0m\u001b[1;33m.\u001b[0m\u001b[0mnormal\u001b[0m\u001b[1;33m(\u001b[0m\u001b[1;36m0.01\u001b[0m\u001b[1;33m,\u001b[0m \u001b[0mq\u001b[0m\u001b[1;33m)\u001b[0m\u001b[1;33m\u001b[0m\u001b[0m\n",
      "\u001b[1;31mTypeError\u001b[0m: 'int' object is not iterable"
     ]
    }
   ],
   "source": [
    "for vertices in vertices_range:\n",
    "    for q in q_range:\n",
    "        for tree in range(0,start_trees):\n",
    "            for node in tree:\n",
    "                Pz= random.normal(0.1, 1.0)\n",
    "                Px0= random.normal(0.01, q)\n",
    "                ex= random.normal(0.01, q)\n",
    "                ez= random.normal(0.01, q)"
   ]
  },
  {
   "cell_type": "markdown",
   "metadata": {},
   "source": [
    "### HOT-mixtures"
   ]
  },
  {
   "cell_type": "code",
   "execution_count": null,
   "metadata": {},
   "outputs": [],
   "source": [
    ""
   ]
  },
  {
   "cell_type": "markdown",
   "metadata": {},
   "source": [
    "## Real Cytogenetic Cancer Data"
   ]
  },
  {
   "cell_type": "code",
   "execution_count": null,
   "metadata": {},
   "outputs": [],
   "source": [
    ""
   ]
  },
  {
   "cell_type": "markdown",
   "metadata": {},
   "source": [
    "# Algorithm"
   ]
  },
  {
   "cell_type": "markdown",
   "metadata": {},
   "source": [
    "We have derived a global structural Expectation Maximization (EM) algorithm for inferring HOTs\n",
    "from data. According to standard EM theory [20], such an algorithm is obtained if there is a procedure\n",
    "that given a HOT T finds a HOT T 0 that maximizes the so-called complete log-likelihood (also\n",
    "known as the Q-term)"
   ]
  },
  {
   "cell_type": "markdown",
   "metadata": {},
   "source": [
    "Q(T';T) = Sigmax( Sigmaz( Pr[Z|X,T] log Pr[Z,X|T']"
   ]
  },
  {
   "cell_type": "markdown",
   "metadata": {},
   "source": [
    "In standard EM, the Q-term is maximized only over the parameters of a model,\n",
    "in our case the conditional probabilities, leaving the structure, i.e., the directed tree, unchanged."
   ]
  },
  {
   "cell_type": "markdown",
   "metadata": {},
   "source": [
    "Friedman et al. [3] extended the use of EM algorithms from the standard parameter estimation to\n",
    "also finding an optimal structure. In their case, the probabilistic model was reversible and the tree\n",
    "that maximized the expected complete log-likelihood could be obtained using a maximum spanning\n",
    "tree algorithm."
   ]
  },
  {
   "cell_type": "markdown",
   "metadata": {},
   "source": [
    "In our case, the pair-wise relations between hidden variables are asymmetric and a\n",
    "maximum spanning tree algorithm cannot be used. However, as we show below, the Q-term can be\n",
    "maximized by instead using Edmonds’s optimal branching algorithm."
   ]
  },
  {
   "cell_type": "markdown",
   "metadata": {},
   "source": [
    "## Single HOTS"
   ]
  },
  {
   "cell_type": "markdown",
   "metadata": {},
   "source": [
    "### E-Step"
   ]
  },
  {
   "cell_type": "code",
   "execution_count": null,
   "metadata": {},
   "outputs": [],
   "source": [
    ""
   ]
  },
  {
   "cell_type": "code",
   "execution_count": null,
   "metadata": {},
   "outputs": [],
   "source": [
    ""
   ]
  },
  {
   "cell_type": "code",
   "execution_count": null,
   "metadata": {},
   "outputs": [],
   "source": [
    ""
   ]
  },
  {
   "cell_type": "markdown",
   "metadata": {},
   "source": [
    "### M-Step"
   ]
  },
  {
   "cell_type": "code",
   "execution_count": null,
   "metadata": {},
   "outputs": [],
   "source": [
    ""
   ]
  },
  {
   "cell_type": "code",
   "execution_count": null,
   "metadata": {},
   "outputs": [],
   "source": [
    ""
   ]
  },
  {
   "cell_type": "code",
   "execution_count": null,
   "metadata": {},
   "outputs": [],
   "source": [
    ""
   ]
  },
  {
   "cell_type": "markdown",
   "metadata": {},
   "source": [
    "## Mixture Hots"
   ]
  },
  {
   "cell_type": "markdown",
   "metadata": {},
   "source": [
    "When dealing with mixtures of HOTs in later sections, we will need to maximize the weighted\n",
    "version of the Q-term, which we introduce already here, where f is a weight function on the data points in D and can be computed in constant time:"
   ]
  },
  {
   "cell_type": "markdown",
   "metadata": {},
   "source": [
    "Qf(T'; T ) = Sigmax( Sigmaz( f(X)Pr[Z|X,T] log Pr[Z,X|T']"
   ]
  },
  {
   "cell_type": "code",
   "execution_count": null,
   "metadata": {},
   "outputs": [],
   "source": [
    "joint = {'Zu':0, 'Xu':0, 'PZu':0}"
   ]
  },
  {
   "cell_type": "code",
   "execution_count": null,
   "metadata": {},
   "outputs": [],
   "source": [
    "define cpr(joint=, joint_vals=, given=, given_vals=):\n",
    "    \n",
    "define pr_x_z(joint=, joint_vals=, given=, given_vals=, u):\n",
    "    \n",
    "define pr_z_pz():\n",
    "    \n",
    "define Au(u, a, b, X, T):\n",
    "    return f(X) * Pr_(joint = [Zu, Zu_pdash], given = [X, T])\n",
    "\n",
    "define Bu(u, a, b, X, T):\n",
    "    return f(X) * Pr(joint = [Zu, Zu_pdash], given = [X, T])"
   ]
  },
  {
   "cell_type": "code",
   "execution_count": null,
   "metadata": {},
   "outputs": [],
   "source": [
    "for u in tree:\n",
    "    for x in [0,1]:\n",
    "        Au_a_b = Au(u, a, b, x, u)\n",
    "        Bu_omega_a = Bu(u, omega,a, x, u)"
   ]
  },
  {
   "cell_type": "code",
   "execution_count": null,
   "metadata": {},
   "outputs": [],
   "source": [
    ""
   ]
  },
  {
   "cell_type": "code",
   "execution_count": null,
   "metadata": {},
   "outputs": [],
   "source": [
    ""
   ]
  },
  {
   "cell_type": "code",
   "execution_count": null,
   "metadata": {},
   "outputs": [],
   "source": [
    ""
   ]
  },
  {
   "cell_type": "code",
   "execution_count": null,
   "metadata": {},
   "outputs": [],
   "source": [
    ""
   ]
  },
  {
   "cell_type": "code",
   "execution_count": null,
   "metadata": {},
   "outputs": [],
   "source": [
    ""
   ]
  },
  {
   "cell_type": "code",
   "execution_count": null,
   "metadata": {},
   "outputs": [],
   "source": [
    ""
   ]
  }
 ],
 "metadata": {
  "kernelspec": {
   "display_name": "Python 3",
   "language": "python",
   "name": "python3"
  },
  "language_info": {
   "codemirror_mode": {
    "name": "ipython",
    "version": 3.0
   },
   "file_extension": ".py",
   "mimetype": "text/x-python",
   "name": "python",
   "nbconvert_exporter": "python",
   "pygments_lexer": "ipython3",
   "version": "3.4.2"
  }
 },
 "nbformat": 4,
 "nbformat_minor": 0
}