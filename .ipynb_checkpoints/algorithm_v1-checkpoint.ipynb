{
 "cells": [
  {
   "cell_type": "markdown",
   "metadata": {},
   "source": [
    "# Globals"
   ]
  },
  {
   "cell_type": "code",
   "execution_count": 3,
   "metadata": {
    "collapsed": false
   },
   "outputs": [],
   "source": [
    "import random"
   ]
  },
  {
   "cell_type": "markdown",
   "metadata": {},
   "source": [
    "\"Also, for each data set, we first run the algorithm on \n",
    "\n",
    "    a set of randomly generated start HOTs or start HOT-mixtures\n",
    "        \n",
    "    for 10 iterations.\n",
    "The HOT or HOT-mixture that results in the best likelihood is then \n",
    "\n",
    "    run until convergence.\n",
    "    \n",
    "Unless stated otherwise, \n",
    "\n",
    "    the number of start trees and mixtures is 100.\""
   ]
  },
  {
   "cell_type": "code",
   "execution_count": null,
   "metadata": {
    "collapsed": true
   },
   "outputs": [],
   "source": [
    "early_iterations = 10\n",
    "start_trees = 100\n"
   ]
  },
  {
   "cell_type": "markdown",
   "metadata": {},
   "source": [
    "# Synthetic Data"
   ]
  },
  {
   "cell_type": "markdown",
   "metadata": {},
   "source": [
    "## Single HOTS"
   ]
  },
  {
   "cell_type": "markdown",
   "metadata": {},
   "source": [
    "We generated random HOTs with 10, 25, and 40 vertices with parameters on the edges chosen\n",
    "uniformly in the intervals\n",
    "\n",
    "    Pr[Z(u) = 1|Z(p(u)) = 1] in the range [0.1, 1.0], (7)\n",
    "    Pr[X(u) = 0|Z(u) = 1], ex,ez in the range [0.01, q], (8)\n",
    "where q is in the range {0.05, 0.10, 0.25, 0.50}. \n",
    "\n",
    "For each combination, we generated 100 HOTs for a total of\n",
    "3 x 4 x 100 = 1200 HOTs."
   ]
  },
  {
   "cell_type": "code",
   "execution_count": 5,
   "metadata": {
    "collapsed": false
   },
   "outputs": [],
   "source": [
    "vertices_range = [10, 25, 40]\n",
    "q_range = [0.05, 0.10, 0.25, 0.50]"
   ]
  },
  {
   "cell_type": "code",
   "execution_count": 4,
   "metadata": {
    "collapsed": true
   },
   "outputs": [],
   "source": [
    "def prob_range(lower, upper):\n",
    "    return random.uniform(lower, upper)"
   ]
  },
  {
   "cell_type": "code",
   "execution_count": null,
   "metadata": {
    "collapsed": true
   },
   "outputs": [],
   "source": [
    "for vertices in vertices_range:\n",
    "    for q in q_range:\n",
    "        for tree in start_trees:\n",
    "            for node in tree:\n",
    "                Pz= random.normal(0.1, 1.0)\n",
    "                Px= random.normal(0.01, q)\n",
    "                ex= random.normal(0.01, q)\n",
    "                ez= random.normal(0.01, q)"
   ]
  }
 ],
 "metadata": {
  "kernelspec": {
   "display_name": "Python 3",
   "language": "python",
   "name": "python3"
  },
  "language_info": {
   "codemirror_mode": {
    "name": "ipython",
    "version": 3
   },
   "file_extension": ".py",
   "mimetype": "text/x-python",
   "name": "python",
   "nbconvert_exporter": "python",
   "pygments_lexer": "ipython3",
   "version": "3.4.2"
  }
 },
 "nbformat": 4,
 "nbformat_minor": 0
}
